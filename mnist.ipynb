{
  "nbformat": 4,
  "nbformat_minor": 0,
  "metadata": {
    "colab": {
      "provenance": [],
      "authorship_tag": "ABX9TyPD1mOmw0+Wl1fGaa7uVEbO",
      "include_colab_link": true
    },
    "kernelspec": {
      "name": "python3",
      "display_name": "Python 3"
    },
    "language_info": {
      "name": "python"
    }
  },
  "cells": [
    {
      "cell_type": "markdown",
      "metadata": {
        "id": "view-in-github",
        "colab_type": "text"
      },
      "source": [
        "<a href=\"https://colab.research.google.com/github/s10nenok/mnist/blob/main/mnist.ipynb\" target=\"_parent\"><img src=\"https://colab.research.google.com/assets/colab-badge.svg\" alt=\"Open In Colab\"/></a>"
      ]
    },
    {
      "cell_type": "code",
      "source": [
        "import gzip\n",
        "import torch\n",
        "import torchvision\n",
        "import numpy as np\n",
        "from torchvision import transforms, datasets\n",
        "import matplotlib.pyplot as plt\n",
        "import random \n",
        "\n",
        "train = datasets.MNIST('', train=True, download=True,\n",
        "                       transform=transforms.Compose([\n",
        "                           transforms.ToTensor()\n",
        "                       ]))\n",
        "\n",
        "test = datasets.MNIST('', train=False, download=True,\n",
        "                       transform=transforms.Compose([\n",
        "                           transforms.ToTensor()\n",
        "                       ]))\n",
        "\n",
        "def read_train():\n",
        "    reorder_type = np.dtype(np.int32).newbyteorder('>')\n",
        "    way = 'MNIST/raw/'\n",
        "    tr_im_way = way+'train-images-idx3-ubyte.gz'\n",
        "    tr_im = gzip.open(tr_im_way,'r')            \n",
        "    image_magic_number = np.frombuffer(tr_im.read(4), dtype=reorder_type)[0]\n",
        "    num_images = np.frombuffer(tr_im.read(4), dtype=reorder_type)[0]\n",
        "    image_rows = np.frombuffer(tr_im.read(4), dtype=reorder_type)[0]\n",
        "    image_columns = np.frombuffer(tr_im.read(4), dtype=reorder_type)[0]\n",
        "    buffer = tr_im.read(num_images * image_rows * image_columns)\n",
        "    images = np.frombuffer(buffer, dtype = np.uint8).astype(np.float32)\n",
        "    images = np.reshape(images, (num_images, 28,28))\n",
        "    images = images/255\n",
        "    images = torch.tensor(images)   \n",
        "    tr_im.close()\n",
        " \n",
        "    tr_lb_way = way+'train-labels-idx1-ubyte.gz'\n",
        "    tr_lb = gzip.open(tr_lb_way,'r')\n",
        "    label_magic_number = np.frombuffer(tr_lb.read(4), dtype=reorder_type).astype(np.int64)[0]\n",
        "    num_labels = np.frombuffer(tr_lb.read(4), dtype=reorder_type).astype(np.int64)[0]\n",
        "    buffer = tr_lb.read(num_labels)\n",
        "    labels = np.frombuffer(buffer, dtype = np.uint8)\n",
        "    labels = torch.tensor(labels, dtype = torch.long)\n",
        "    tr_lb.close()\n",
        "\n",
        "    permutation = np.random.permutation(len(labels)) \n",
        "    images = images[permutation] \n",
        "    labels = labels[permutation]\n",
        "\n",
        "    images = rotate(images) \n",
        "    return images, labels\n",
        "\n",
        "def read_test():\n",
        "    reorder_type = np.dtype(np.int32).newbyteorder('>')\n",
        "    way = 'MNIST/raw/'\n",
        "    test_im_way = way+'t10k-images-idx3-ubyte.gz'\n",
        "    test_im = gzip.open(test_im_way,'r')\n",
        "    image_magic_number = np.frombuffer(test_im.read(4), dtype=reorder_type)[0]\n",
        "    num_images = np.frombuffer(test_im.read(4), dtype=reorder_type)[0]\n",
        "    image_rows = np.frombuffer(test_im.read(4), dtype=reorder_type)[0]\n",
        "    image_columns = np.frombuffer(test_im.read(4), dtype=reorder_type)[0]\n",
        "    buffer = test_im.read(num_images * image_rows * image_columns)\n",
        "    images = np.frombuffer(buffer, dtype = np.uint8).astype(np.float32)\n",
        "    images = np.reshape(images, (num_images, 28,28))\n",
        "    images = images/255\n",
        "    images = torch.tensor(images)   \n",
        "    test_im.close()\n",
        "\n",
        "    test_lb_way = way+'t10k-labels-idx1-ubyte.gz'\n",
        "    test_lb = gzip.open(test_lb_way,'r')\n",
        "    label_magic_number = np.frombuffer(test_lb.read(4), dtype=reorder_type).astype(np.int64)[0]\n",
        "    num_labels = np.frombuffer(test_lb.read(4), dtype=reorder_type).astype(np.int64)[0]\n",
        "    buffer = test_lb.read(num_labels)\n",
        "    labels = np.frombuffer(buffer, dtype = np.uint8)\n",
        "    labels = torch.tensor(labels, dtype = torch.long)   \n",
        "    test_lb.close()\n",
        "\n",
        "    permutation = np.random.permutation(len(labels)) \n",
        "    images = images[permutation] \n",
        "    labels = labels[permutation]\n",
        "\n",
        "    images = rotate(images) \n",
        "    return images, labels\n",
        "    \n",
        " \n",
        "def rotate(images):\n",
        "    for i in range(len(images)):\n",
        "      angle = random.randint(-90,90)\n",
        "      images[i] = np.rot90(images[i], int(angle/90))\n",
        "    return images\n",
        "\n",
        "\n",
        "#################\n",
        "X,Y = read_train()\n",
        "\n",
        "\n",
        "\n",
        "\n",
        "\n",
        "\n"
      ],
      "metadata": {
        "id": "n5JZb_n9rdFK",
        "colab": {
          "base_uri": "https://localhost:8080/",
          "height": 381
        },
        "outputId": "41140171-62a6-49b0-dee4-a73c055f38b0"
      },
      "execution_count": 48,
      "outputs": [
        {
          "output_type": "error",
          "ename": "TypeError",
          "evalue": "ignored",
          "traceback": [
            "\u001b[0;31m---------------------------------------------------------------------------\u001b[0m",
            "\u001b[0;31mTypeError\u001b[0m                                 Traceback (most recent call last)",
            "\u001b[0;32m<ipython-input-48-dd1691f0d9cb>\u001b[0m in \u001b[0;36m<module>\u001b[0;34m\u001b[0m\n\u001b[1;32m     90\u001b[0m \u001b[0;34m\u001b[0m\u001b[0m\n\u001b[1;32m     91\u001b[0m \u001b[0;31m#################\u001b[0m\u001b[0;34m\u001b[0m\u001b[0;34m\u001b[0m\u001b[0m\n\u001b[0;32m---> 92\u001b[0;31m \u001b[0mX\u001b[0m\u001b[0;34m,\u001b[0m\u001b[0mY\u001b[0m \u001b[0;34m=\u001b[0m \u001b[0mread_train\u001b[0m\u001b[0;34m(\u001b[0m\u001b[0;34m)\u001b[0m\u001b[0;34m\u001b[0m\u001b[0;34m\u001b[0m\u001b[0m\n\u001b[0m\u001b[1;32m     93\u001b[0m \u001b[0;34m\u001b[0m\u001b[0m\n\u001b[1;32m     94\u001b[0m \u001b[0;34m\u001b[0m\u001b[0m\n",
            "\u001b[0;32m<ipython-input-48-dd1691f0d9cb>\u001b[0m in \u001b[0;36mread_train\u001b[0;34m()\u001b[0m\n\u001b[1;32m     46\u001b[0m     \u001b[0mlabels\u001b[0m \u001b[0;34m=\u001b[0m \u001b[0mlabels\u001b[0m\u001b[0;34m[\u001b[0m\u001b[0mpermutation\u001b[0m\u001b[0;34m]\u001b[0m\u001b[0;34m\u001b[0m\u001b[0;34m\u001b[0m\u001b[0m\n\u001b[1;32m     47\u001b[0m \u001b[0;34m\u001b[0m\u001b[0m\n\u001b[0;32m---> 48\u001b[0;31m     \u001b[0mimages\u001b[0m \u001b[0;34m=\u001b[0m \u001b[0mrotate\u001b[0m\u001b[0;34m(\u001b[0m\u001b[0mimages\u001b[0m\u001b[0;34m)\u001b[0m\u001b[0;34m\u001b[0m\u001b[0;34m\u001b[0m\u001b[0m\n\u001b[0m\u001b[1;32m     49\u001b[0m     \u001b[0;32mreturn\u001b[0m \u001b[0mimages\u001b[0m\u001b[0;34m,\u001b[0m \u001b[0mlabels\u001b[0m\u001b[0;34m\u001b[0m\u001b[0;34m\u001b[0m\u001b[0m\n\u001b[1;32m     50\u001b[0m \u001b[0;34m\u001b[0m\u001b[0m\n",
            "\u001b[0;32m<ipython-input-48-dd1691f0d9cb>\u001b[0m in \u001b[0;36mrotate\u001b[0;34m(images)\u001b[0m\n\u001b[1;32m     85\u001b[0m     \u001b[0;32mfor\u001b[0m \u001b[0mi\u001b[0m \u001b[0;32min\u001b[0m \u001b[0mrange\u001b[0m\u001b[0;34m(\u001b[0m\u001b[0mlen\u001b[0m\u001b[0;34m(\u001b[0m\u001b[0mimages\u001b[0m\u001b[0;34m)\u001b[0m\u001b[0;34m)\u001b[0m\u001b[0;34m:\u001b[0m\u001b[0;34m\u001b[0m\u001b[0;34m\u001b[0m\u001b[0m\n\u001b[1;32m     86\u001b[0m       \u001b[0mangle\u001b[0m \u001b[0;34m=\u001b[0m \u001b[0mrandom\u001b[0m\u001b[0;34m.\u001b[0m\u001b[0mrandint\u001b[0m\u001b[0;34m(\u001b[0m\u001b[0;34m-\u001b[0m\u001b[0;36m90\u001b[0m\u001b[0;34m,\u001b[0m\u001b[0;36m90\u001b[0m\u001b[0;34m)\u001b[0m\u001b[0;34m\u001b[0m\u001b[0;34m\u001b[0m\u001b[0m\n\u001b[0;32m---> 87\u001b[0;31m       \u001b[0mimages\u001b[0m\u001b[0;34m[\u001b[0m\u001b[0mi\u001b[0m\u001b[0;34m]\u001b[0m \u001b[0;34m=\u001b[0m \u001b[0mnp\u001b[0m\u001b[0;34m.\u001b[0m\u001b[0mrot90\u001b[0m\u001b[0;34m(\u001b[0m\u001b[0mimages\u001b[0m\u001b[0;34m[\u001b[0m\u001b[0mi\u001b[0m\u001b[0;34m]\u001b[0m\u001b[0;34m,\u001b[0m \u001b[0mint\u001b[0m\u001b[0;34m(\u001b[0m\u001b[0mangle\u001b[0m\u001b[0;34m/\u001b[0m\u001b[0;36m90\u001b[0m\u001b[0;34m)\u001b[0m\u001b[0;34m)\u001b[0m\u001b[0;34m\u001b[0m\u001b[0;34m\u001b[0m\u001b[0m\n\u001b[0m\u001b[1;32m     88\u001b[0m     \u001b[0;32mreturn\u001b[0m \u001b[0mimages\u001b[0m\u001b[0;34m\u001b[0m\u001b[0;34m\u001b[0m\u001b[0m\n\u001b[1;32m     89\u001b[0m \u001b[0;34m\u001b[0m\u001b[0m\n",
            "\u001b[0;31mTypeError\u001b[0m: can't assign a numpy.ndarray to a torch.FloatTensor"
          ]
        }
      ]
    }
  ]
}